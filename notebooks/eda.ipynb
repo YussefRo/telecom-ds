{
 "cells": [
  {
   "cell_type": "code",
   "execution_count": 1,
   "metadata": {},
   "outputs": [],
   "source": [
    "import pandas as pd \n",
    "from datetime import datetime\n",
    "import seaborn as sns\n",
    "import matplotlib.pyplot as plt\n",
    "import numpy as np\n",
    "from sklearn.preprocessing import StandardScaler\n",
    "from sklearn.model_selection import train_test_split, cross_val_score, StratifiedKFold, RandomizedSearchCV\n",
    "from imblearn.over_sampling import SMOTE\n",
    "from sklearn.dummy import DummyClassifier\n",
    "from sklearn.linear_model import LogisticRegression\n",
    "from sklearn.ensemble import RandomForestClassifier\n",
    "from sklearn.metrics import classification_report, confusion_matrix, roc_auc_score, RocCurveDisplay\n",
    "from xgboost import XGBClassifier\n",
    "\n",
    "# ignorar los mensajes warning\n",
    "import warnings\n",
    "warnings.filterwarnings(\"ignore\")\n",
    "\n",
    "# mostrar todas las columnas y filas\n",
    "pd.set_option('display.max_rows', None)\n",
    "pd.set_option('display.max_columns', None)\n"
   ]
  },
  {
   "cell_type": "code",
   "execution_count": 2,
   "metadata": {},
   "outputs": [],
   "source": [
    "#lecturas de archivos\n",
    "contratos = pd.read_csv(\"data/contract.csv\")\n",
    "internet = pd.read_csv(\"data/internet.csv\")\n",
    "personal = pd.read_csv(\"data/personal.csv\")\n",
    "phone = pd.read_csv(\"data/phone.csv\")\n"
   ]
  },
  {
   "cell_type": "code",
   "execution_count": null,
   "metadata": {},
   "outputs": [],
   "source": [
    "# Convertir fechas a datetime\n",
    "contratos['BeginDate'] = pd.to_datetime(contratos['BeginDate'])\n",
    "contratos['EndDate'] = contratos['EndDate'].replace('No', pd.NaT)\n",
    "contratos['EndDate'] = pd.to_datetime(contratos['EndDate'])\n",
    "\n",
    "# Convertir TotalCharges a numérico\n",
    "contratos['TotalCharges'] = pd.to_numeric(contratos['TotalCharges'], errors='coerce')\n",
    "\n",
    "#excluimos clientes que su contrato inicio despues del 1 dde febrero del 2020\n",
    "contratos = contratos[contratos[\"BeginDate\"] < \"01/02/2020\"]\n"
   ]
  },
  {
   "cell_type": "code",
   "execution_count": null,
   "metadata": {},
   "outputs": [],
   "source": [
    "# Unificamos los dataframes\n",
    "df = contratos.merge(internet, on='customerID', how='left') \\\n",
    "              .merge(personal, on='customerID', how='left') \\\n",
    "              .merge(phone, on='customerID', how='left')\n"
   ]
  },
  {
   "cell_type": "code",
   "execution_count": null,
   "metadata": {},
   "outputs": [],
   "source": [
    "#Esto asignará 1 a los clientes que sí tienen fecha de finalización (cancelaron) y 0 a los que tienen 'No' (aún activos).\n",
    "df['Churn'] = df['EndDate'].notna().astype(int)"
   ]
  },
  {
   "cell_type": "code",
   "execution_count": null,
   "metadata": {},
   "outputs": [],
   "source": [
    "# Llenamos los datos nulos de las columnas de servicios, los servicios externos son servicios si tienes internet, por lo tanto se agrego no a todos los que estaban nulos\n",
    "\n",
    "columnas_objetivo = [\"InternetService\",\"OnlineSecurity\",\"OnlineBackup\",\"DeviceProtection\",\"TechSupport\",\"StreamingTV\",\"StreamingMovies\"]\n",
    "\n",
    "df_filtrado = df[(df[\"InternetService\"] != 'Fiber optic') & (df[\"InternetService\"] != 'DSL') ]\n",
    "\n",
    "df_filtrado.loc[:,columnas_objetivo] =  df_filtrado[columnas_objetivo].fillna(\"No\")\n",
    "\n",
    "df.update(df_filtrado)"
   ]
  },
  {
   "cell_type": "code",
   "execution_count": null,
   "metadata": {},
   "outputs": [],
   "source": [
    "#se le agrega otra descripcion a la columna multiples lineas, ya que le hace falta un nuevo valor que indique que no tienen el servcio de telefono \"not using\"\n",
    "\n",
    "df['MultipleLines'] =  df['MultipleLines'].fillna(\"Not using\")"
   ]
  },
  {
   "cell_type": "code",
   "execution_count": null,
   "metadata": {},
   "outputs": [],
   "source": [
    "# eliminamos clientes inactivos (sin telefonia e internet)\n",
    "inactivos = df[\n",
    "    (df['InternetService'] == 'No') & (df['MultipleLines'] == 'Not using') ]\n",
    "\n",
    "df = df.drop(inactivos.index).reset_index(drop=True)"
   ]
  },
  {
   "cell_type": "code",
   "execution_count": null,
   "metadata": {},
   "outputs": [],
   "source": [
    "#La fecha de referencia es el 1 de febrero de 2020. Vamos a crear una columna con la duración del contrato en meses.\n",
    "fecha_corte = pd.to_datetime('2020-02-01')\n",
    "df['SeniorityMonths'] = ((fecha_corte.year - df['BeginDate'].dt.year) * 12 +\n",
    "                         (fecha_corte.month - df['BeginDate'].dt.month) +\n",
    "                         (fecha_corte.day >= df['BeginDate'].dt.day).astype(int) - 1\n",
    "                        )"
   ]
  },
  {
   "cell_type": "code",
   "execution_count": null,
   "metadata": {},
   "outputs": [],
   "source": [
    "# Vamos a contar cuántos servicios adicionales usa el cliente, Contar cuántos servicios son 'Yes'\n",
    "servicios = [\n",
    "    'OnlineSecurity', 'OnlineBackup', 'DeviceProtection',\n",
    "    'TechSupport', 'StreamingTV', 'StreamingMovies',\n",
    "    'MultipleLines'\n",
    "]\n",
    "\n",
    "df['ContratedServices'] = df[servicios].apply(lambda row: sum(row == 'Yes'), axis=1)"
   ]
  },
  {
   "cell_type": "code",
   "execution_count": null,
   "metadata": {},
   "outputs": [],
   "source": [
    "#distribucion general de la variable objetivo\n",
    "\n",
    "sns.countplot(x='Churn', data=df)\n",
    "plt.title('Distribución de cancelaciones')\n",
    "plt.xticks([0,1], ['No Canceló', 'Canceló'])\n",
    "plt.grid(True)\n",
    "plt.show()"
   ]
  },
  {
   "cell_type": "code",
   "execution_count": null,
   "metadata": {},
   "outputs": [],
   "source": [
    "# cancelacion segun tipo de contrato\n",
    "sns.countplot(x='Type', hue='Churn', data=df)\n",
    "plt.title('Cancelación según tipo de contrato')\n",
    "plt.grid(True)\n",
    "plt.show()"
   ]
  },
  {
   "cell_type": "code",
   "execution_count": null,
   "metadata": {},
   "outputs": [],
   "source": [
    "# cancelacion segun metodo de pago\n",
    "\n",
    "sns.countplot(y='PaymentMethod', hue='Churn', data=df)\n",
    "plt.title('Cancelación según método de pago')\n",
    "plt.grid(True)\n",
    "plt.show()"
   ]
  },
  {
   "cell_type": "code",
   "execution_count": null,
   "metadata": {},
   "outputs": [],
   "source": [
    "\n",
    "sns.countplot(x='ContratedServices', data=df)\n",
    "plt.title('Distribución de servicios contratados')\n",
    "plt.xlabel('Número de servicios adicionales')\n",
    "plt.ylabel('Número de clientes')\n",
    "plt.show()"
   ]
  },
  {
   "cell_type": "code",
   "execution_count": null,
   "metadata": {},
   "outputs": [],
   "source": [
    "sns.boxplot(x='Churn', y='MonthlyCharges', data=df)\n",
    "plt.title('Cargos mensuales vs. cancelación')\n",
    "plt.grid(True)\n",
    "plt.show()"
   ]
  },
  {
   "cell_type": "code",
   "execution_count": null,
   "metadata": {},
   "outputs": [],
   "source": [
    "sns.boxplot(x='Churn', y='SeniorityMonths', data=df)\n",
    "plt.title('Antigüedad vs. cancelación')\n",
    "plt.grid(True)\n",
    "plt.show()"
   ]
  },
  {
   "cell_type": "code",
   "execution_count": null,
   "metadata": {},
   "outputs": [],
   "source": [
    "for col in servicios:\n",
    "    sns.countplot(x=col, hue='Churn', data=df)\n",
    "    plt.title(f'Churn vs {col}')\n",
    "    plt.xticks(rotation=45)\n",
    "    plt.show()"
   ]
  },
  {
   "cell_type": "code",
   "execution_count": null,
   "metadata": {},
   "outputs": [],
   "source": [
    "#Creamos una columna donde simplifiquemos los valores de PaymentMethod\n",
    "df[\"payment\"] =  np.where((df['PaymentMethod'] == 'Mailed check') | (df['PaymentMethod'] == 'Electronic check'),'Manual','Automatic')\n",
    "\n",
    "# creamos el dataframe con la informacion que nos servira para el entrenamiento del modelo\n",
    "df_model = df[[\"Type\",\"PaperlessBilling\",\"MonthlyCharges\",\"TotalCharges\",\"InternetService\",\"MultipleLines\",\"Churn\",\"SeniorityMonths\",\"ContratedServices\",\"payment\"]]\n",
    "\n",
    "# Creacion de columnas binarias con label encoding\n",
    "\n",
    "df_model[\"PaperlessBilling\"] = df_model[\"PaperlessBilling\"].map({'Yes':1,'No':0})\n",
    "df_model[\"payment\"] = df_model[\"payment\"].map({\"Automatic\":1,\"Manual\":0})\n",
    "\n",
    "# Multiclase con One-Hot-Encoding (sin duplicar informacion con drop_first=true)\n",
    "df_model = pd.get_dummies(df_model,columns=[\"Type\",\"InternetService\",\"MultipleLines\"], drop_first=True)\n",
    "\n",
    "\n",
    "# Escalar variables numericas\n",
    "\n",
    "scaler = StandardScaler()\n",
    "\n",
    "num_cols = ['MonthlyCharges','TotalCharges','SeniorityMonths','ContratedServices']\n",
    "\n",
    "df_model[num_cols] = scaler.fit_transform(df_model[num_cols])\n"
   ]
  },
  {
   "cell_type": "code",
   "execution_count": null,
   "metadata": {},
   "outputs": [],
   "source": [
    "\n",
    "df_model.sample(20)"
   ]
  },
  {
   "cell_type": "code",
   "execution_count": null,
   "metadata": {},
   "outputs": [],
   "source": [
    "df.groupby(\"Churn\").count()"
   ]
  },
  {
   "cell_type": "code",
   "execution_count": null,
   "metadata": {},
   "outputs": [],
   "source": [
    "# separacion de el objetivo y las caracteristicas\n",
    "\n",
    "features = df_model.drop(columns=[\"Churn\"])\n",
    "target = df_model[\"Churn\"]"
   ]
  },
  {
   "cell_type": "code",
   "execution_count": null,
   "metadata": {},
   "outputs": [],
   "source": [
    "features.head()"
   ]
  },
  {
   "cell_type": "code",
   "execution_count": null,
   "metadata": {},
   "outputs": [],
   "source": [
    "# realizamos la separacion de entrenamiento y prueba\n",
    "features_train, features_test, target_train, target_test = train_test_split(features, target, test_size=0.2, random_state=12345)"
   ]
  },
  {
   "cell_type": "code",
   "execution_count": null,
   "metadata": {},
   "outputs": [],
   "source": [
    "print(target_train.value_counts())\n",
    "print(target_test.value_counts())\n"
   ]
  },
  {
   "cell_type": "code",
   "execution_count": null,
   "metadata": {},
   "outputs": [],
   "source": [
    "# implementamos tecnica SMOTE para el desbalanceo de clases, se aplica a los datos de entrenamiento\n",
    "\n",
    "smote = SMOTE(random_state=12345)\n",
    "features_train_resampled, target_train_resampled = smote.fit_resample(features_train,target_train)"
   ]
  },
  {
   "cell_type": "code",
   "execution_count": null,
   "metadata": {},
   "outputs": [],
   "source": [
    "target_train_resampled.value_counts()"
   ]
  },
  {
   "cell_type": "code",
   "execution_count": null,
   "metadata": {},
   "outputs": [],
   "source": [
    "# pasamos a crear nuestra baseline con DummyClassifier\n",
    "\n",
    "dummy = DummyClassifier(strategy='most_frequent', random_state=12345)\n",
    "\n",
    "auc_scores = cross_val_score(dummy, features_train_resampled,target_train_resampled, cv=5,scoring='roc_auc')\n",
    "\n",
    "acc_scores = cross_val_score(dummy, features_train_resampled,target_train_resampled, cv=5,scoring='accuracy')\n",
    "\n",
    "print(f\" - AUC-ROC {np.mean(auc_scores):.4f}\")\n",
    "print(f\" - Accuracy {np.mean(acc_scores):.4f}\")\n"
   ]
  },
  {
   "cell_type": "code",
   "execution_count": null,
   "metadata": {},
   "outputs": [],
   "source": [
    "# evaluacion de modelos con metrica principal AUC-ROC  y Accuaracy\n",
    "\n",
    "# utilizamos la validacion cruzada estratificada de 5 folds\n",
    "sfk = StratifiedKFold(n_splits=5, shuffle=True, random_state=12345)\n",
    "\n",
    "# parametrizacion de los modelos\n",
    "modelos = { \"Logistic Regression\": LogisticRegression(max_iter=1000, random_state=12345),\n",
    "           \"Random Forest\": RandomForestClassifier(n_estimators=100, random_state=12345),\n",
    "           \"XGBoost\": XGBClassifier(use_label_encoder=False, eval_metric='logloss',random_state=12345)}\n",
    "\n",
    "\n",
    "# iteramos el diccionario de los modelos para evaluar\n",
    "for nombre, modelo in modelos.items():\n",
    "    auc_scores = cross_val_score(modelo,features_train_resampled,target_train_resampled,cv=sfk,scoring='roc_auc')\n",
    "    acc_scores = cross_val_score(modelo,features_train_resampled,target_train_resampled,cv=sfk,scoring='accuracy')\n",
    "\n",
    "    print(f\"{nombre}: AUC-ROC promedio = {auc_scores.mean():.4f} (+/- {auc_scores.std():.4f})\")\n",
    "    print(f\"          Accuracy promedio = {acc_scores.mean():.4f}\\n\")\n",
    "\n"
   ]
  },
  {
   "cell_type": "code",
   "execution_count": null,
   "metadata": {},
   "outputs": [],
   "source": [
    "# como el modelo XGBoost es el mejor pasamos  a afinarlo\n",
    "# usaremos RandomizedSearchCV para optimizar\n",
    "\n",
    "\n",
    "# nuestro clasificador base\n",
    "xgb_clf = XGBClassifier(use_label_encoder = False, eval_metric='logloss', random_state=12345)\n",
    "\n",
    "#busqueda de hiperparametros\n",
    "param_dist = {\n",
    "    'n_estimators': [100,200,300],\n",
    "    'max_depth': [3,5,7,10],\n",
    "    'learning_rate': [0.01,0.05,0.1,0.2],\n",
    "    'colsample_bytree': [0.6,0.8,1.0],\n",
    "    'gamma': [0,0.1,0.3,0.5]\n",
    "}\n",
    "\n",
    "random_search = RandomizedSearchCV(\n",
    "    estimator=xgb_clf,\n",
    "    param_distributions=param_dist,\n",
    "    n_iter=30,\n",
    "    scoring='roc_auc',\n",
    "    cv=5,\n",
    "    verbose=2,\n",
    "    random_state=12345,\n",
    "    n_jobs=-1\n",
    ")\n",
    "\n",
    "random_search.fit(features_train_resampled,target_train_resampled)\n",
    "\n",
    "print('mejores parametros')\n",
    "print(random_search.best_params_)\n"
   ]
  },
  {
   "cell_type": "code",
   "execution_count": null,
   "metadata": {},
   "outputs": [],
   "source": [
    "# entrenamos el modelo con los parametros recomendados\n",
    "\n",
    "model_xgb = XGBClassifier(\n",
    "    n_estimators=200,\n",
    "    max_depth=10,\n",
    "    learning_rate=0.2,\n",
    "    gamma=0,\n",
    "    colsample_bytree=0.6,\n",
    "    use_label_encoder=False,\n",
    "    eval_metric='logloss',\n",
    "    random_state=12345\n",
    ")\n",
    "\n",
    "model_xgb.fit(features_train_resampled,target_train_resampled)"
   ]
  },
  {
   "cell_type": "code",
   "execution_count": null,
   "metadata": {},
   "outputs": [],
   "source": [
    "#predicciones \n",
    "target_predict = model_xgb.predict(features_test)\n",
    "target_proba = model_xgb.predict_proba(features_test)[:,1]\n",
    "\n",
    "print(\"Matriz de confusion\")\n",
    "print(confusion_matrix(target_test,target_predict))\n",
    "\n",
    "print(\"\\nReporte de clasificacion\")\n",
    "print(classification_report(target_test,target_predict))\n",
    "\n",
    "auc = roc_auc_score(target_test,target_proba)\n",
    "print(f\"\\nAUC-ROC: {auc:.4f}\")\n",
    "\n",
    "\n",
    "RocCurveDisplay.from_estimator(model_xgb,features_test,target_test)\n",
    "plt.title(\"Curva ROC - XGBoost Optimizado\")\n",
    "plt.show()"
   ]
  },
  {
   "cell_type": "code",
   "execution_count": null,
   "metadata": {},
   "outputs": [],
   "source": []
  }
 ],
 "metadata": {
  "kernelspec": {
   "display_name": "env",
   "language": "python",
   "name": "python3"
  },
  "language_info": {
   "codemirror_mode": {
    "name": "ipython",
    "version": 3
   },
   "file_extension": ".py",
   "mimetype": "text/x-python",
   "name": "python",
   "nbconvert_exporter": "python",
   "pygments_lexer": "ipython3",
   "version": "3.12.3"
  }
 },
 "nbformat": 4,
 "nbformat_minor": 2
}
